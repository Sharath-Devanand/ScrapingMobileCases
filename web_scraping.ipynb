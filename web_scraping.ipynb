{
 "cells": [
  {
   "cell_type": "code",
   "execution_count": null,
   "metadata": {},
   "outputs": [],
   "source": [
    "import requests\n",
    "import pandas as pd\n",
    "from bs4 import BeautifulSoup\n",
    "import regex as re\n",
    "import matplotlib.pyplot as plt\n",
    "import selenium as se"
   ]
  },
  {
   "cell_type": "code",
   "execution_count": null,
   "metadata": {},
   "outputs": [],
   "source": [
    "caseName = []\n",
    "priceNow = []\n",
    "priceThen = []\n",
    "material = []\n",
    "\n",
    "URL = 'https://popitout.in/collections/best-selling-products'\n",
    "\n",
    "r = requests.get(URL)\n",
    "s = BeautifulSoup(r.content,'html.parser')\n",
    "check = s.find_all('div',class_ = 'pagination')\n",
    "if check:\n",
    "    page_count = int(s.find_all('a',class_='pagination__page')[-1].get_text())\n",
    "else:\n",
    "    page_count = 1\n",
    "\n",
    "for j in range(1,page_count):\n",
    "    if j>1:\n",
    "        URL = URL + '?page='+str(j)\n",
    "    r = requests.get(URL)\n",
    "    s = BeautifulSoup(r.content,'html.parser')\n",
    "\n",
    "    namelist = s.find_all('h3')\n",
    "    priceList = s.find_all('div',{\"class\":['card__price','card__availability']})\n",
    "    material_used = s.find_all('div',class_='card__brand')\n",
    "\n",
    "    L = len(namelist)\n",
    "\n",
    "    for i in range(0,L):\n",
    "        caseName.append(namelist[i].get_text())\n",
    "        \n",
    "        if priceList[i].get_text().strip()==\"Sold Out\":\n",
    "            priceNow.append(0)\n",
    "            priceThen.append(0)\n",
    "        else:\n",
    "            priceNow.append(int(re.sub(\",\",\"\",priceList[i].find('span',class_=\"card__price--sale\").get_text()[4:])))\n",
    "            priceThen.append(int(re.sub(\",\",\"\",priceList[i].find('span',class_=\"card__price--regular\").get_text()[4:])))\n",
    "        \n",
    "        material.append(material_used[i].get_text())"
   ]
  },
  {
   "attachments": {},
   "cell_type": "markdown",
   "metadata": {},
   "source": [
    "## Lists to Dataframe"
   ]
  },
  {
   "cell_type": "code",
   "execution_count": null,
   "metadata": {},
   "outputs": [],
   "source": [
    "popitout = pd.DataFrame()\n",
    "popitout[\"Name\"] = caseName\n",
    "popitout[\"Material\"] = material\n",
    "popitout[\"Orginal Price\"] = priceThen\n",
    "popitout[\"Discounted Price\"] = priceNow"
   ]
  },
  {
   "cell_type": "code",
   "execution_count": null,
   "metadata": {},
   "outputs": [],
   "source": [
    "popitout.head(10)"
   ]
  },
  {
   "cell_type": "code",
   "execution_count": null,
   "metadata": {},
   "outputs": [],
   "source": [
    "popitout.describe()"
   ]
  },
  {
   "cell_type": "code",
   "execution_count": null,
   "metadata": {},
   "outputs": [],
   "source": [
    "popitout[\"Discount percentage\"] = 100*(1-popitout[\"Discounted Price\"]/popitout[\"Orginal Price\"])"
   ]
  },
  {
   "cell_type": "code",
   "execution_count": null,
   "metadata": {},
   "outputs": [],
   "source": [
    "popitout = popitout.dropna()"
   ]
  },
  {
   "cell_type": "code",
   "execution_count": null,
   "metadata": {},
   "outputs": [],
   "source": [
    "## Group by material - Pie chart\n",
    "Material_group = popitout.groupby(popitout[\"Material\"]).size()\n",
    "\n",
    "plt.pie(Material_group,labels=sorted(popitout[\"Material\"].unique()))\n",
    "plt.show()"
   ]
  },
  {
   "cell_type": "code",
   "execution_count": null,
   "metadata": {},
   "outputs": [],
   "source": [
    "## Group by discount percentage - Donut\n",
    "Discount_group = popitout.groupby(popitout[\"Discounted Price\"]).size()\n",
    "\n",
    "plt.plot(Discount_group)"
   ]
  },
  {
   "attachments": {},
   "cell_type": "markdown",
   "metadata": {},
   "source": [
    "## ZAPVI"
   ]
  },
  {
   "cell_type": "code",
   "execution_count": null,
   "metadata": {},
   "outputs": [],
   "source": [
    "caseName_Zapvi = []\n",
    "priceNow_Zapvi = []\n",
    "priceThen_Zapvi = []\n",
    "\n",
    "URL = 'https://zapvi.in/apple-iphone-14-back-cover/'\n",
    "\n",
    "page_count = int(450/12)+2\n",
    "\n",
    "for j in range(0,page_count):\n",
    "    if j>2:\n",
    "        URL2 = URL + 'page/' + str(j)+'/'\n",
    "    r = requests.get(URL2)\n",
    "    s = BeautifulSoup(r.content,'html.parser')\n",
    "\n",
    "    namelist = s.find_all('a',class_='woocommerce-LoopProduct-link woocommerce-loop-product__link')\n",
    "    priceList = s.find_all('span',class_='price')\n",
    "\n",
    "    L = len(namelist)\n",
    "    #print(len(priceList))\n",
    "    for i in range(0,L):\n",
    "        caseName_Zapvi.append(namelist[i].get_text())\n",
    "\n",
    "        priceNow_Zapvi.append(int(priceList[0].find_all('bdi')[1].get_text()[1:-3]))\n",
    "        priceThen_Zapvi.append(int(priceList[0].find_all('bdi')[0].get_text()[1:-3]))\n",
    "    "
   ]
  },
  {
   "cell_type": "code",
   "execution_count": null,
   "metadata": {},
   "outputs": [],
   "source": [
    "zapvi = pd.DataFrame()\n",
    "zapvi[\"Name\"] = caseName_Zapvi\n",
    "zapvi[\"Orginal Price\"] = priceThen_Zapvi\n",
    "zapvi[\"Discounted Price\"] = priceNow_Zapvi\n",
    "\n",
    "zapvi[\"Discount percentage\"] = 100*(1-zapvi[\"Discounted Price\"]/zapvi[\"Orginal Price\"])"
   ]
  },
  {
   "cell_type": "code",
   "execution_count": null,
   "metadata": {},
   "outputs": [],
   "source": [
    "zapvi.head()"
   ]
  },
  {
   "attachments": {},
   "cell_type": "markdown",
   "metadata": {},
   "source": [
    "## Daily Objects"
   ]
  },
  {
   "cell_type": "code",
   "execution_count": null,
   "metadata": {},
   "outputs": [],
   "source": [
    "caseName_daily = []\n",
    "priceNow_daily = []\n",
    "priceThen_daily = []\n",
    "\n",
    "URL = 'https://www.dailyobjects.com/apple/iphone-14-cases/lp?f=b~apple,cid~1101,m~iphone-14'\n",
    "\n",
    "r = requests.get(URL)\n",
    "s = BeautifulSoup(r.content,'html.parser')\n",
    "\n",
    "namelist = s.find_all('p',class_='text ng-star-inserted')\n",
    "priceList = s.find_all('div',class_=\"mrp ng-star-inserted\")\n",
    "\n",
    "L = len(namelist)\n",
    "print(priceList)\n",
    "\n",
    "for i in range(0,L):\n",
    "    caseName_daily.append(namelist[i].get_text())\n",
    "\n",
    "    #priceNow_daily.append(int(priceList[0].find_all('bdi')[1].get_text()[1:-3]))\n",
    "    #priceThen_daily.append(int(priceList[0].find_all('bdi')[0].get_text()[1:-3]))\n",
    "    "
   ]
  },
  {
   "cell_type": "code",
   "execution_count": null,
   "metadata": {},
   "outputs": [],
   "source": [
    "daily = pd.DataFrame()\n",
    "daily[\"Name\"] = caseName_daily\n",
    "daily[\"Orginal Price\"] = priceThen_daily\n",
    "daily[\"Discounted Price\"] = priceNow_daily"
   ]
  },
  {
   "attachments": {},
   "cell_type": "markdown",
   "metadata": {},
   "source": [
    "## Bewakoof"
   ]
  },
  {
   "cell_type": "code",
   "execution_count": 73,
   "metadata": {},
   "outputs": [],
   "source": [
    "caseName_bewa = []\n",
    "priceNow_bewa = []\n",
    "priceThen_bewa = []\n",
    "\n",
    "URL = 'https://www.bewakoof.com/iphone-14-back-covers-cases'\n",
    "\n",
    "r = requests.get(URL)\n",
    "s = BeautifulSoup(r.content,'html.parser')\n",
    "\n",
    "namelist = s.find_all('h2',class_='clr-shade4 h3-p-name undefined')\n",
    "priceList = s.find_all('div',class_=\"productPriceBox d-flex align-items-end\")\n",
    "\n",
    "L = len(namelist)\n",
    "\n",
    "for i in range(0,L):\n",
    "    caseName_bewa.append(namelist[i].get_text())"
   ]
  },
  {
   "cell_type": "code",
   "execution_count": 74,
   "metadata": {},
   "outputs": [
    {
     "data": {
      "text/plain": [
       "['Abstract Tiles Printed Premium Glass Cover for Apple iPhone 14 (Shockproof, Light Weight)',\n",
       " 'Mystic Aurora Printed Premium Glass Cover for Apple iPhone 14 (Shockproof, Light Weight)',\n",
       " 'Fluorescent Yellow Premium Glass Cover for Apple iPhone 14 (Shockproof, Light Weight)',\n",
       " 'Elegant Floral Printed Premium Glass Cover for Apple iPhone 14 (Shockproof, Light Weight)',\n",
       " 'Cloudburst Printed Premium Glass Cover for Apple iPhone 14 (Shockproof, Light Weight)',\n",
       " 'Colorful Fluid Printed Premium Glass Cover for Apple iPhone 14 (Shockproof, Light Weight)',\n",
       " 'Brave Lion Printed Premium Glass Cover for Apple iPhone 14 (Shockproof, Light Weight)',\n",
       " 'Space Doodles Printed Premium Glass Cover for Apple iPhone 14 (Shockproof, Light Weight)',\n",
       " 'True Genius Typography Premium Glass Cover for Apple iPhone 14 (Shock Proof, Scratch Resistant)',\n",
       " 'Kitten Mandala Printed Premium Glass Cover for Apple iPhone 14 (Shock Proof, Scratch Resistant)']"
      ]
     },
     "execution_count": 74,
     "metadata": {},
     "output_type": "execute_result"
    }
   ],
   "source": [
    "caseName_bewa"
   ]
  },
  {
   "cell_type": "code",
   "execution_count": 82,
   "metadata": {},
   "outputs": [
    {
     "data": {
      "text/plain": [
       "[<div class=\"plp-product-card\" id=\"testProductcard_1\"><a aria-current=\"false\" class=\"col-sm-4 col-xs-6 px-2\" href=\"/p/abstract-tiles-printed-premium-glass-cover-for-apple-iphone-14\"><div class=\"productCardBox\"><div class=\"productCardImg false\"><div class=\"productImg\" style=\"width:100%;padding-top:135%;position:relative;background:rgb(249, 245, 246)\"><img alt=\"Shop Abstract Tiles Printed Premium Glass Cover for Apple iPhone 14 (Shockproof, Light Weight)-Front\" class=\"productImgTag\" decoding=\"async\" height=\"100%\" loading=\"lazy\" src=\"https://images.bewakoof.com/t640/abstract-tiles-printed-premium-glass-cover-for-apple-iphone-14-shockproof-light-weight-547832-1665564526-1.jpg\" title=\"Abstract Tiles Printed Premium Glass Cover for Apple iPhone 14 (Shockproof, Light Weight)-Front Bewakoof\" width=\"100%\"/></div><div class=\"productStatusBox\"></div><div class=\"bottomTag\"></div><div class=\"tag-container\"><div class=\"d-flex tag-wrapper\" style=\"min-height:15px\"><div class=\"d-flex align-items-center tag-row p-tag\" style=\"background:rgba(82, 82, 82, 0.8)\"><span class=\"plp\" style=\"color:#fff\">PREMIUM GLASS COVER</span></div></div></div></div><div class=\"productCardDetail pdt-card-h\"><div class=\"d-flex\"><div class=\"productNaming bkf-ellipsis\"><h3 class=\"brand-name undefined\">Qrioh</h3><h2 class=\"clr-shade4 h3-p-name undefined\">Abstract Tiles Printed Premium Glass Cover for Apple iPhone 14 (Shockproof, Light Weight)</h2></div><div class=\"wishListProduct-v2\"><img alt=\"wishlist\" class=\"wishlist-icon-animate\" src=\"https://images.bewakoof.com/web/Wishlist.svg\"/></div></div><div class=\"productPriceBox d-flex align-items-end\"><div class=\"discountedPriceText clr-p-black false\"><span>₹</span>499</div><div class=\"actualPriceText clr-shade5\">₹<!-- -->1499</div><span class=\"sellingFastBox\"></span></div><div class=\"d-flex align-items-center justify-content-between loyalty-stock-wrap\"><div class=\"loyaltyPriceBox\" style=\"width:unset\"><h6><b>₹<!-- -->469</b>For TriBe Members</h6></div></div></div></div></a></div>,\n",
       " <div class=\"plp-product-card\" id=\"testProductcard_2\"><a aria-current=\"false\" class=\"col-sm-4 col-xs-6 px-2\" href=\"/p/mystic-aurora-printed-premium-glass-cover-for-apple-iphone-14\"><div class=\"productCardBox\"><div class=\"productCardImg false\"><div class=\"productImg\" style=\"width:100%;padding-top:135%;position:relative;background:rgb(248, 247, 249)\"><img alt=\"Shop Mystic Aurora Printed Premium Glass Cover for Apple iPhone 14 (Shockproof, Light Weight)-Front\" class=\"productImgTag\" decoding=\"async\" height=\"100%\" loading=\"lazy\" src=\"https://images.bewakoof.com/t640/mystic-aurora-printed-premium-glass-cover-for-apple-iphone-14-shockproof-light-weight-547833-1665564716-1.jpg\" title=\"Mystic Aurora Printed Premium Glass Cover for Apple iPhone 14 (Shockproof, Light Weight)-Front Bewakoof\" width=\"100%\"/></div><div class=\"productStatusBox\"></div><div class=\"bottomTag\"></div><div class=\"tag-container\"><div class=\"d-flex tag-wrapper\" style=\"min-height:15px\"><div class=\"d-flex align-items-center tag-row p-tag\" style=\"background:rgba(82, 82, 82, 0.8)\"><span class=\"plp\" style=\"color:#fff\">PREMIUM GLASS COVER</span></div></div></div></div><div class=\"productCardDetail pdt-card-h\"><div class=\"d-flex\"><div class=\"productNaming bkf-ellipsis\"><h3 class=\"brand-name undefined\">Qrioh</h3><h2 class=\"clr-shade4 h3-p-name undefined\">Mystic Aurora Printed Premium Glass Cover for Apple iPhone 14 (Shockproof, Light Weight)</h2></div><div class=\"wishListProduct-v2\"><img alt=\"wishlist\" class=\"wishlist-icon-animate\" src=\"https://images.bewakoof.com/web/Wishlist.svg\"/></div></div><div class=\"productPriceBox d-flex align-items-end\"><div class=\"discountedPriceText clr-p-black false\"><span>₹</span>499</div><div class=\"actualPriceText clr-shade5\">₹<!-- -->1499</div><span class=\"sellingFastBox\"></span></div><div class=\"d-flex align-items-center justify-content-between loyalty-stock-wrap\"><div class=\"loyaltyPriceBox\" style=\"width:unset\"><h6><b>₹<!-- -->469</b>For TriBe Members</h6></div></div></div></div></a></div>,\n",
       " <div class=\"plp-product-card\" id=\"testProductcard_3\"><a aria-current=\"false\" class=\"col-sm-4 col-xs-6 px-2\" href=\"/p/fluorescent-yellow-premium-glass-cover-for-apple-iphone-14\"><div class=\"productCardBox\"><div class=\"productCardImg false\"><div class=\"productImg\" style=\"width:100%;padding-top:135%;position:relative;background:rgb(248, 248, 247)\"><img alt=\"Shop Fluorescent Yellow Premium Glass Cover for Apple iPhone 14 (Shockproof, Light Weight)-Front\" class=\"productImgTag\" decoding=\"async\" height=\"100%\" loading=\"lazy\" src=\"https://images.bewakoof.com/t640/fluorescent-yellow-premium-glass-cover-for-apple-iphone-14-shockproof-light-weight-547836-1665564927-1.jpg\" title=\"Fluorescent Yellow Premium Glass Cover for Apple iPhone 14 (Shockproof, Light Weight)-Front Bewakoof\" width=\"100%\"/></div><div class=\"productStatusBox\"></div><div class=\"bottomTag\"></div><div class=\"tag-container\"><div class=\"d-flex tag-wrapper\" style=\"min-height:15px\"><div class=\"d-flex align-items-center tag-row p-tag\" style=\"background:rgba(82, 82, 82, 0.8)\"><span class=\"plp\" style=\"color:#fff\">PREMIUM GLASS COVER</span></div></div></div></div><div class=\"productCardDetail pdt-card-h\"><div class=\"d-flex\"><div class=\"productNaming bkf-ellipsis\"><h3 class=\"brand-name undefined\">Qrioh</h3><h2 class=\"clr-shade4 h3-p-name undefined\">Fluorescent Yellow Premium Glass Cover for Apple iPhone 14 (Shockproof, Light Weight)</h2></div><div class=\"wishListProduct-v2\"><img alt=\"wishlist\" class=\"wishlist-icon-animate\" src=\"https://images.bewakoof.com/web/Wishlist.svg\"/></div></div><div class=\"productPriceBox d-flex align-items-end\"><div class=\"discountedPriceText clr-p-black false\"><span>₹</span>499</div><div class=\"actualPriceText clr-shade5\">₹<!-- -->1499</div><span class=\"sellingFastBox\"></span></div><div class=\"d-flex align-items-center justify-content-between loyalty-stock-wrap\"><div class=\"loyaltyPriceBox\" style=\"width:unset\"><h6><b>₹<!-- -->469</b>For TriBe Members</h6></div></div></div></div></a></div>,\n",
       " <div class=\"plp-product-card\" id=\"testProductcard_4\"><a aria-current=\"false\" class=\"col-sm-4 col-xs-6 px-2\" href=\"/p/elegant-floral-printed-premium-glass-cover-for-apple-iphone-14\"><div class=\"productCardBox\"><div class=\"productCardImg false\"><div class=\"productImg\" style=\"width:100%;padding-top:135%;position:relative;background:rgb(245, 245, 247)\"><img alt=\"Shop Elegant Floral Printed Premium Glass Cover for Apple iPhone 14 (Shockproof, Light Weight)-Front\" class=\"productImgTag\" decoding=\"async\" height=\"100%\" loading=\"lazy\" src=\"https://images.bewakoof.com/t640/elegant-floral-printed-premium-glass-cover-for-apple-iphone-14-shockproof-light-weight-547846-1665565032-1.jpg\" title=\"Elegant Floral Printed Premium Glass Cover for Apple iPhone 14 (Shockproof, Light Weight)-Front Bewakoof\" width=\"100%\"/></div><div class=\"productStatusBox\"></div><div class=\"bottomTag\"></div><div class=\"tag-container\"><div class=\"d-flex tag-wrapper\" style=\"min-height:15px\"><div class=\"d-flex align-items-center tag-row p-tag\" style=\"background:rgba(82, 82, 82, 0.8)\"><span class=\"plp\" style=\"color:#fff\">PREMIUM GLASS COVER</span></div></div></div></div><div class=\"productCardDetail pdt-card-h\"><div class=\"d-flex\"><div class=\"productNaming bkf-ellipsis\"><h3 class=\"brand-name undefined\">Qrioh</h3><h2 class=\"clr-shade4 h3-p-name undefined\">Elegant Floral Printed Premium Glass Cover for Apple iPhone 14 (Shockproof, Light Weight)</h2></div><div class=\"wishListProduct-v2\"><img alt=\"wishlist\" class=\"wishlist-icon-animate\" src=\"https://images.bewakoof.com/web/Wishlist.svg\"/></div></div><div class=\"productPriceBox d-flex align-items-end\"><div class=\"discountedPriceText clr-p-black false\"><span>₹</span>499</div><div class=\"actualPriceText clr-shade5\">₹<!-- -->1499</div><span class=\"sellingFastBox\"></span></div><div class=\"d-flex align-items-center justify-content-between loyalty-stock-wrap\"><div class=\"loyaltyPriceBox\" style=\"width:unset\"><h6><b>₹<!-- -->469</b>For TriBe Members</h6></div></div></div></div></a></div>,\n",
       " <div class=\"plp-product-card\" id=\"testProductcard_5\"><a aria-current=\"false\" class=\"col-sm-4 col-xs-6 px-2\" href=\"/p/cloudburst-printed-premium-glass-cover-for-apple-iphone-14\"><div class=\"productCardBox\"><div class=\"productCardImg false\"><div class=\"productImg\" style=\"width:100%;padding-top:135%;position:relative;background:rgb(247, 249, 247)\"><img alt=\"Shop Cloudburst Printed Premium Glass Cover for Apple iPhone 14 (Shockproof, Light Weight)-Front\" class=\"productImgTag\" decoding=\"async\" height=\"100%\" loading=\"lazy\" src=\"https://images.bewakoof.com/t640/cloudburst-printed-premium-glass-cover-for-apple-iphone-14-shockproof-light-weight-547847-1665565053-1.jpg\" title=\"Cloudburst Printed Premium Glass Cover for Apple iPhone 14 (Shockproof, Light Weight)-Front Bewakoof\" width=\"100%\"/></div><div class=\"productStatusBox\"></div><div class=\"bottomTag\"></div><div class=\"tag-container\"><div class=\"d-flex tag-wrapper\" style=\"min-height:15px\"><div class=\"d-flex align-items-center tag-row p-tag\" style=\"background:rgba(82, 82, 82, 0.8)\"><span class=\"plp\" style=\"color:#fff\">PREMIUM GLASS COVER</span></div></div></div></div><div class=\"productCardDetail pdt-card-h\"><div class=\"d-flex\"><div class=\"productNaming bkf-ellipsis\"><h3 class=\"brand-name undefined\">Qrioh</h3><h2 class=\"clr-shade4 h3-p-name undefined\">Cloudburst Printed Premium Glass Cover for Apple iPhone 14 (Shockproof, Light Weight)</h2></div><div class=\"wishListProduct-v2\"><img alt=\"wishlist\" class=\"wishlist-icon-animate\" src=\"https://images.bewakoof.com/web/Wishlist.svg\"/></div></div><div class=\"productPriceBox d-flex align-items-end\"><div class=\"discountedPriceText clr-p-black false\"><span>₹</span>499</div><div class=\"actualPriceText clr-shade5\">₹<!-- -->1499</div><span class=\"sellingFastBox\"></span></div><div class=\"d-flex align-items-center justify-content-between loyalty-stock-wrap\"><div class=\"loyaltyPriceBox\" style=\"width:unset\"><h6><b>₹<!-- -->469</b>For TriBe Members</h6></div></div></div></div></a></div>,\n",
       " <div class=\"plp-product-card\" id=\"testProductcard_6\"><a aria-current=\"false\" class=\"col-sm-4 col-xs-6 px-2\" href=\"/p/colorful-fluid-printed-premium-glass-cover-for-apple-iphone-14\"><div class=\"productCardBox\"><div class=\"productCardImg false\"><div class=\"productImg\" style=\"width:100%;padding-top:135%;position:relative;background:rgb(249, 245, 249)\"><img alt=\"Shop Colorful Fluid Printed Premium Glass Cover for Apple iPhone 14 (Shockproof, Light Weight)-Front\" class=\"productImgTag\" decoding=\"async\" height=\"100%\" loading=\"lazy\" src=\"https://images.bewakoof.com/t640/colorful-fluid-printed-premium-glass-cover-for-apple-iphone-14-shockproof-light-weight-547848-1665564864-1.jpg\" title=\"Colorful Fluid Printed Premium Glass Cover for Apple iPhone 14 (Shockproof, Light Weight)-Front Bewakoof\" width=\"100%\"/></div><div class=\"productStatusBox\"></div><div class=\"bottomTag\"></div><div class=\"tag-container\"><div class=\"d-flex tag-wrapper\" style=\"min-height:15px\"><div class=\"d-flex align-items-center tag-row p-tag\" style=\"background:rgba(82, 82, 82, 0.8)\"><span class=\"plp\" style=\"color:#fff\">PREMIUM GLASS COVER</span></div></div></div><div class=\"pdt-r-wrap d-flex align-items-center bgclr-shade8\"><span class=\"clr-shade-3\">5</span><i class=\"icon_star_filled clr-p-yellow\"></i></div></div><div class=\"productCardDetail pdt-card-h\"><div class=\"d-flex\"><div class=\"productNaming bkf-ellipsis\"><h3 class=\"brand-name undefined\">Qrioh</h3><h2 class=\"clr-shade4 h3-p-name undefined\">Colorful Fluid Printed Premium Glass Cover for Apple iPhone 14 (Shockproof, Light Weight)</h2></div><div class=\"wishListProduct-v2\"><img alt=\"wishlist\" class=\"wishlist-icon-animate\" src=\"https://images.bewakoof.com/web/Wishlist.svg\"/></div></div><div class=\"productPriceBox d-flex align-items-end\"><div class=\"discountedPriceText clr-p-black false\"><span>₹</span>499</div><div class=\"actualPriceText clr-shade5\">₹<!-- -->1499</div><span class=\"sellingFastBox\"></span></div><div class=\"d-flex align-items-center justify-content-between loyalty-stock-wrap\"><div class=\"loyaltyPriceBox\" style=\"width:unset\"><h6><b>₹<!-- -->469</b>For TriBe Members</h6></div></div></div></div></a></div>,\n",
       " <div class=\"plp-product-card\" id=\"testProductcard_7\"><a aria-current=\"false\" class=\"col-sm-4 col-xs-6 px-2\" href=\"/p/brave-lion-printed-premium-glass-cover-for-apple-iphone-14\"><div class=\"productCardBox\"><div class=\"productCardImg false\"><div class=\"productImg\" style=\"width:100%;padding-top:135%;position:relative;background:rgb(247, 245, 247)\"><img alt=\"Shop Brave Lion Printed Premium Glass Cover for Apple iPhone 14 (Shockproof, Light Weight)-Front\" class=\"productImgTag\" decoding=\"async\" height=\"100%\" loading=\"lazy\" src=\"https://images.bewakoof.com/t640/brave-lion-printed-premium-glass-cover-for-apple-iphone-14-shockproof-light-weight-547843-1665565179-1.jpg\" title=\"Brave Lion Printed Premium Glass Cover for Apple iPhone 14 (Shockproof, Light Weight)-Front Bewakoof\" width=\"100%\"/></div><div class=\"productStatusBox\"></div><div class=\"bottomTag\"></div><div class=\"tag-container\"><div class=\"d-flex tag-wrapper\" style=\"min-height:15px\"><div class=\"d-flex align-items-center tag-row p-tag\" style=\"background:rgba(82, 82, 82, 0.8)\"><span class=\"plp\" style=\"color:#fff\">PREMIUM GLASS COVER</span></div></div></div></div><div class=\"productCardDetail pdt-card-h\"><div class=\"d-flex\"><div class=\"productNaming bkf-ellipsis\"><h3 class=\"brand-name undefined\">Qrioh</h3><h2 class=\"clr-shade4 h3-p-name undefined\">Brave Lion Printed Premium Glass Cover for Apple iPhone 14 (Shockproof, Light Weight)</h2></div><div class=\"wishListProduct-v2\"><img alt=\"wishlist\" class=\"wishlist-icon-animate\" src=\"https://images.bewakoof.com/web/Wishlist.svg\"/></div></div><div class=\"productPriceBox d-flex align-items-end\"><div class=\"discountedPriceText clr-p-black false\"><span>₹</span>499</div><div class=\"actualPriceText clr-shade5\">₹<!-- -->1499</div><span class=\"sellingFastBox\"></span></div><div class=\"d-flex align-items-center justify-content-between loyalty-stock-wrap\"><div class=\"loyaltyPriceBox\" style=\"width:unset\"><h6><b>₹<!-- -->469</b>For TriBe Members</h6></div></div></div></div></a></div>,\n",
       " <div class=\"plp-product-card\" id=\"testProductcard_8\"><a aria-current=\"false\" class=\"col-sm-4 col-xs-6 px-2\" href=\"/p/space-doodles-printed-premium-glass-cover-for-apple-iphone-14\"><div class=\"productCardBox\"><div class=\"productCardImg false\"><div class=\"productImg\" style=\"width:100%;padding-top:135%;position:relative;background:rgb(246, 248, 249)\"><img alt=\"Shop Space Doodles Printed Premium Glass Cover for Apple iPhone 14 (Shockproof, Light Weight)-Front\" class=\"productImgTag\" decoding=\"async\" height=\"100%\" loading=\"lazy\" src=\"https://images.bewakoof.com/t640/space-doodles-printed-premium-glass-cover-for-apple-iphone-14-shockproof-light-weight-547851-1665565137-1.jpg\" title=\"Space Doodles Printed Premium Glass Cover for Apple iPhone 14 (Shockproof, Light Weight)-Front Bewakoof\" width=\"100%\"/></div><div class=\"productStatusBox\"></div><div class=\"bottomTag\"></div><div class=\"tag-container\"><div class=\"d-flex tag-wrapper\" style=\"min-height:15px\"><div class=\"d-flex align-items-center tag-row p-tag\" style=\"background:rgba(82, 82, 82, 0.8)\"><span class=\"plp\" style=\"color:#fff\">PREMIUM GLASS COVER</span></div></div></div></div><div class=\"productCardDetail pdt-card-h\"><div class=\"d-flex\"><div class=\"productNaming bkf-ellipsis\"><h3 class=\"brand-name undefined\">Qrioh</h3><h2 class=\"clr-shade4 h3-p-name undefined\">Space Doodles Printed Premium Glass Cover for Apple iPhone 14 (Shockproof, Light Weight)</h2></div><div class=\"wishListProduct-v2\"><img alt=\"wishlist\" class=\"wishlist-icon-animate\" src=\"https://images.bewakoof.com/web/Wishlist.svg\"/></div></div><div class=\"productPriceBox d-flex align-items-end\"><div class=\"discountedPriceText clr-p-black false\"><span>₹</span>499</div><div class=\"actualPriceText clr-shade5\">₹<!-- -->1499</div><span class=\"sellingFastBox\"></span></div><div class=\"d-flex align-items-center justify-content-between loyalty-stock-wrap\"><div class=\"loyaltyPriceBox\" style=\"width:unset\"><h6><b>₹<!-- -->469</b>For TriBe Members</h6></div></div></div></div></a></div>,\n",
       " <div class=\"plp-product-card\" id=\"testProductcard_9\"><a aria-current=\"false\" class=\"col-sm-4 col-xs-6 px-2\" href=\"/p/true-genius-typography-premium-glass-cover-for-apple-iphone-14\"><div class=\"productCardBox\"><div class=\"productCardImg false\"><div class=\"productImg\" style=\"width:100%;padding-top:135%;position:relative;background:rgb(249, 246, 247)\"><img alt=\"Shop True Genius Typography Premium Glass Cover for Apple iPhone 14 (Shock Proof, Scratch Resistant)-Front\" class=\"productImgTag\" decoding=\"async\" height=\"100%\" loading=\"lazy\" src=\"https://images.bewakoof.com/t640/true-genius-typography-premium-glass-cover-for-apple-iphone-14-shock-proof-scratch-resistant-544161-1663847072-1.jpg\" title=\"True Genius Typography Premium Glass Cover for Apple iPhone 14 (Shock Proof, Scratch Resistant)-Front Bewakoof\" width=\"100%\"/></div><div class=\"productStatusBox\"></div><div class=\"bottomTag\"></div><div class=\"tag-container\"><div class=\"d-flex tag-wrapper\" style=\"min-height:15px\"><div class=\"d-flex align-items-center tag-row p-tag\" style=\"background:rgba(82, 82, 82, 0.8)\"><span class=\"plp\" style=\"color:#fff\">PREMIUM GLASS COVER</span></div></div></div></div><div class=\"productCardDetail pdt-card-h\"><div class=\"d-flex\"><div class=\"productNaming bkf-ellipsis\"><h3 class=\"brand-name undefined\">Qrioh</h3><h2 class=\"clr-shade4 h3-p-name undefined\">True Genius Typography Premium Glass Cover for Apple iPhone 14 (Shock Proof, Scratch Resistant)</h2></div><div class=\"wishListProduct-v2\"><img alt=\"wishlist\" class=\"wishlist-icon-animate\" src=\"https://images.bewakoof.com/web/Wishlist.svg\"/></div></div><div class=\"productPriceBox d-flex align-items-end\"><div class=\"discountedPriceText clr-p-black false\"><span>₹</span>499</div><div class=\"actualPriceText clr-shade5\">₹<!-- -->1499</div><span class=\"sellingFastBox\"></span></div><div class=\"d-flex align-items-center justify-content-between loyalty-stock-wrap\"><div class=\"loyaltyPriceBox\" style=\"width:unset\"><h6><b>₹<!-- -->469</b>For TriBe Members</h6></div></div></div></div></a></div>,\n",
       " <div class=\"plp-product-card\" id=\"testProductcard_10\"><a aria-current=\"false\" class=\"col-sm-4 col-xs-6 px-2\" href=\"/p/kitten-mandala-printed-premium-glass-cover-for-apple-iphone-14\"><div class=\"productCardBox\"><div class=\"productCardImg false\"><div class=\"productImg\" style=\"width:100%;padding-top:135%;position:relative;background:rgb(249, 245, 246)\"><img alt=\"Shop Kitten Mandala Printed Premium Glass Cover for Apple iPhone 14 (Shock Proof, Scratch Resistant)-Front\" class=\"productImgTag\" decoding=\"async\" height=\"100%\" loading=\"lazy\" src=\"https://images.bewakoof.com/t640/kitten-mandala-printed-premium-glass-cover-for-apple-iphone-14-shock-proof-scratch-resistant-544162-1663847135-1.jpg\" title=\"Kitten Mandala Printed Premium Glass Cover for Apple iPhone 14 (Shock Proof, Scratch Resistant)-Front Bewakoof\" width=\"100%\"/></div><div class=\"productStatusBox\"></div><div class=\"bottomTag\"></div><div class=\"tag-container\"><div class=\"d-flex tag-wrapper\" style=\"min-height:15px\"><div class=\"d-flex align-items-center tag-row p-tag\" style=\"background:rgba(82, 82, 82, 0.8)\"><span class=\"plp\" style=\"color:#fff\">PREMIUM GLASS COVER</span></div></div></div><div class=\"pdt-r-wrap d-flex align-items-center bgclr-shade8\"><span class=\"clr-shade-3\">5</span><i class=\"icon_star_filled clr-p-yellow\"></i></div></div><div class=\"productCardDetail pdt-card-h\"><div class=\"d-flex\"><div class=\"productNaming bkf-ellipsis\"><h3 class=\"brand-name undefined\">Qrioh</h3><h2 class=\"clr-shade4 h3-p-name undefined\">Kitten Mandala Printed Premium Glass Cover for Apple iPhone 14 (Shock Proof, Scratch Resistant)</h2></div><div class=\"wishListProduct-v2\"><img alt=\"wishlist\" class=\"wishlist-icon-animate\" src=\"https://images.bewakoof.com/web/Wishlist.svg\"/></div></div><div class=\"productPriceBox d-flex align-items-end\"><div class=\"discountedPriceText clr-p-black false\"><span>₹</span>499</div><div class=\"actualPriceText clr-shade5\">₹<!-- -->1499</div><span class=\"sellingFastBox\"></span></div><div class=\"d-flex align-items-center justify-content-between loyalty-stock-wrap\"><div class=\"loyaltyPriceBox\" style=\"width:unset\"><h6><b>₹<!-- -->469</b>For TriBe Members</h6></div></div></div></div></a></div>]"
      ]
     },
     "execution_count": 82,
     "metadata": {},
     "output_type": "execute_result"
    }
   ],
   "source": [
    "s.find_all('div',class_='plp-product-card')"
   ]
  },
  {
   "cell_type": "code",
   "execution_count": null,
   "metadata": {},
   "outputs": [],
   "source": [
    "bewa = pd.DataFrame()\n",
    "bewa[\"Name\"] = caseName_bewa\n",
    "bewa[\"Orginal Price\"] = priceThen_bewa\n",
    "bewa[\"Discounted Price\"] = priceNow_bewa"
   ]
  },
  {
   "cell_type": "markdown",
   "metadata": {},
   "source": [
    "## Cover it up"
   ]
  },
  {
   "cell_type": "code",
   "execution_count": 90,
   "metadata": {},
   "outputs": [
    {
     "data": {
      "text/plain": [
       "['Iridescent Checkered Pattern Mobile Phone ...\\n        \\n\\n          \\n       \\t\\tIridescent Checke...',\n",
       " 'Chrome Edge Clear Phone Case\\n        \\n\\n          \\n       \\t\\tChrome Edge Clear...',\n",
       " 'Liquid Crystal Airbag Phone Case\\n        \\n\\n          \\n       \\t\\tLiquid Crystal Ai...',\n",
       " 'Phone Interface Glass Case\\n        \\n\\n          \\n       \\t\\tPhone Interface G...',\n",
       " 'Green Hounds Tooth Pattern Glass Case\\n        \\n\\n          \\n       \\t\\tGreen Hounds Toot...',\n",
       " 'Marvel Spider-Man Logo Suit Glass Case\\n        \\n\\n          \\n       \\t\\tMarvel Spider-Man...',\n",
       " 'Red Hounds Tooth Pattern Glass Case\\n        \\n\\n          \\n       \\t\\tRed Hounds Tooth ...',\n",
       " 'Space Panda Glass Case\\n        \\n\\n          \\n       \\t\\tSpace Panda Glass...',\n",
       " 'Love Hearts Glass Case\\n        \\n\\n          \\n       \\t\\tLove Hearts Glass...',\n",
       " 'All Love Glass Case\\n        \\n\\n          \\n       \\t\\tAll Love Glass Case',\n",
       " 'Beige Hounds Tooth Pattern Glass Case\\n        \\n\\n          \\n       \\t\\tBeige Hounds Toot...',\n",
       " 'Blue Flower Power Glass Case\\n        \\n\\n          \\n       \\t\\tBlue Flower Power...',\n",
       " 'Blue Hounds Tooth Pattern Glass Case\\n        \\n\\n          \\n       \\t\\tBlue Hounds Tooth...',\n",
       " 'Candy Swirl Glass Case\\n        \\n\\n          \\n       \\t\\tCandy Swirl Glass...',\n",
       " 'Official  Green Flower Power Glass Case\\n        \\n\\n          \\n       \\t\\tOfficial  Green F...',\n",
       " 'Lilac Hounds Tooth Pattern Glass Case\\n        \\n\\n          \\n       \\t\\tLilac Hounds Toot...']"
      ]
     },
     "execution_count": 90,
     "metadata": {},
     "output_type": "execute_result"
    }
   ],
   "source": [
    "coveritup = 'https://coveritup.com/collections/all-phone-cases'\n",
    "caseName_cover = []\n",
    "\n",
    "\n",
    "r = requests.get(coveritup)\n",
    "s = BeautifulSoup(r.content,'html.parser')\n",
    "\n",
    "nameList = s.find_all('h3',class_=\"block text-base\")\n",
    "\n",
    "L= len(nameList)\n",
    "\n",
    "for i in range(0,L):\n",
    "    caseName_cover.append(nameList[i].get_text().strip())\n",
    "\n",
    "caseName_cover"
   ]
  },
  {
   "cell_type": "code",
   "execution_count": null,
   "metadata": {},
   "outputs": [],
   "source": []
  },
  {
   "attachments": {},
   "cell_type": "markdown",
   "metadata": {},
   "source": [
    "# Wep Scraping ALL collections"
   ]
  },
  {
   "cell_type": "code",
   "execution_count": null,
   "metadata": {},
   "outputs": [],
   "source": [
    "collections = 'https://popitout.in/collections'\n",
    "\n",
    "r = requests.get(collections)\n",
    "s = BeautifulSoup(r.content,'html.parser')\n",
    "\n",
    "categories = s.find_all('h3',class_ = 'card__name h4')\n",
    "\n",
    "caseName = []\n",
    "priceNow = []\n",
    "priceThen = []\n",
    "material = []\n",
    "\n",
    "\n",
    "for cat in categories:\n",
    "    category_name = cat.get_text()\n",
    "    category_name = re.sub(\" \",\"-\",category_name.lower())\n",
    "    URL = collections + '/'+ category_name\n",
    "    r = requests.get(URL)\n",
    "    if r.status_code==200:\n",
    "\n",
    "        print(category_name)\n",
    "        s = BeautifulSoup(r.content,'html.parser')\n",
    "\n",
    "        check = s.find_all('div',class_ = 'pagination')\n",
    "        if check:\n",
    "            page_count = int(s.find_all('a',class_='pagination__page')[-1].get_text())\n",
    "        else:\n",
    "            page_count = 1\n",
    "        \n",
    "        \n",
    "        for j in range(1,page_count):\n",
    "            if j>1:\n",
    "                URL = URL + '?page='+str(j)\n",
    "            r = requests.get(URL)\n",
    "            s = BeautifulSoup(r.content,'html.parser')\n",
    "\n",
    "            namelist = s.find_all('h3')\n",
    "            priceList = s.find_all('div',{\"class\":['card__price','card__availability']})\n",
    "            material_used = s.find_all('div',class_='card__brand')\n",
    "\n",
    "            L = len(namelist)\n",
    "\n",
    "            for i in range(0,L):\n",
    "                caseName.append(namelist[i].get_text())\n",
    "                \n",
    "                if priceList[i].get_text().strip()==\"Sold Out\":\n",
    "                    priceNow.append(0)\n",
    "                    priceThen.append(0)\n",
    "                else:\n",
    "                    priceNow.append(int(re.sub(\",\",\"\",priceList[i].find('span',class_=\"card__price--sale\").get_text()[4:])))\n",
    "                    priceThen.append(int(re.sub(\",\",\"\",priceList[i].find('span',class_=\"card__price--regular\").get_text()[4:])))\n",
    "                \n",
    "                material.append(material_used[i].get_text())\n",
    "\n",
    "popitout = pd.DataFrame()\n",
    "popitout[\"Name\"] = caseName\n",
    "popitout[\"Material\"] = material\n",
    "popitout[\"Orginal Price\"] = priceThen\n",
    "popitout[\"Discounted Price\"] = priceNow\n"
   ]
  },
  {
   "cell_type": "code",
   "execution_count": null,
   "metadata": {},
   "outputs": [],
   "source": []
  },
  {
   "cell_type": "code",
   "execution_count": null,
   "metadata": {},
   "outputs": [],
   "source": []
  },
  {
   "cell_type": "code",
   "execution_count": null,
   "metadata": {},
   "outputs": [],
   "source": []
  },
  {
   "cell_type": "code",
   "execution_count": null,
   "metadata": {},
   "outputs": [],
   "source": []
  }
 ],
 "metadata": {
  "kernelspec": {
   "display_name": "Python 3",
   "language": "python",
   "name": "python3"
  },
  "language_info": {
   "codemirror_mode": {
    "name": "ipython",
    "version": 3
   },
   "file_extension": ".py",
   "mimetype": "text/x-python",
   "name": "python",
   "nbconvert_exporter": "python",
   "pygments_lexer": "ipython3",
   "version": "3.11.0"
  },
  "orig_nbformat": 4,
  "vscode": {
   "interpreter": {
    "hash": "b91f41160b83ffc59c7e17fa6fd02d637d5dcf1d5e59aa2db87d82178661b954"
   }
  }
 },
 "nbformat": 4,
 "nbformat_minor": 2
}
